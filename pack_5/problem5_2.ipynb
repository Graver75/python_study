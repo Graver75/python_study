{
 "cells": [
  {
   "cell_type": "code",
   "execution_count": null,
   "metadata": {
    "collapsed": true
   },
   "outputs": [],
   "source": [
    "import random\n",
    "\n",
    "amount = int(input(\"Enter amount of cycles: \"))\n",
    "\n",
    "meeting = 0\n",
    "\n",
    "\n",
    "def simulation():\n",
    "    global meeting\n",
    "    bug = True\n",
    "    number_check = random.randint(1, 5)\n",
    "    for i in range(number_check):\n",
    "        probability = random.randint(1, 100)\n",
    "        if probability < 12:\n",
    "            bug = False\n",
    "            print(\"Bug was revealed by Claudia at \" + str(i + 1) + \" checking . No meeting.\")\n",
    "            break\n",
    "    if bug:\n",
    "        print('Claudia done checking. Bug not detected')\n",
    "        probability = random.randint(1, 100)\n",
    "        if probability < 12:\n",
    "            print('Constantine detected bug. Meeting')\n",
    "            meeting += 1\n",
    "        else:\n",
    "            print('Constantine didn`t detected bug. No meeting')\n",
    "\n",
    "\n",
    "for i in range(amount):\n",
    "    print(str(i) + \" simulation:\")\n",
    "    simulation()\n",
    "\n",
    "print('Mathematically probability : 0,061424')\n",
    "print('Simulative probability: %.6f' % (meeting / amount))"
   ]
  }
 ],
 "metadata": {
  "kernelspec": {
   "display_name": "Python 2",
   "language": "python",
   "name": "python2"
  },
  "language_info": {
   "codemirror_mode": {
    "name": "ipython",
    "version": 2
   },
   "file_extension": ".py",
   "mimetype": "text/x-python",
   "name": "python",
   "nbconvert_exporter": "python",
   "pygments_lexer": "ipython2",
   "version": "2.7.6"
  }
 },
 "nbformat": 4,
 "nbformat_minor": 0
}
